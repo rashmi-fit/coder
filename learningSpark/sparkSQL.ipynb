{
 "cells": [
  {
   "cell_type": "code",
   "execution_count": 2,
   "id": "b4eb018f",
   "metadata": {
    "ExecuteTime": {
     "end_time": "2022-08-24T09:11:43.456087Z",
     "start_time": "2022-08-24T09:11:43.435970Z"
    }
   },
   "outputs": [
    {
     "data": {
      "text/html": [
       "<style>pre{white-space: pre !!important;}</style>"
      ],
      "text/plain": [
       "<IPython.core.display.HTML object>"
      ]
     },
     "metadata": {},
     "output_type": "display_data"
    }
   ],
   "source": [
    "from IPython.core.display import HTML\n",
    "display(HTML(\"<style>pre{white-space: pre !!important;}</style>\"))"
   ]
  },
  {
   "cell_type": "code",
   "execution_count": 3,
   "id": "995439b3",
   "metadata": {
    "ExecuteTime": {
     "end_time": "2022-08-24T09:11:52.498176Z",
     "start_time": "2022-08-24T09:11:45.106727Z"
    }
   },
   "outputs": [
    {
     "name": "stderr",
     "output_type": "stream",
     "text": [
      "Setting default log level to \"WARN\".\n",
      "To adjust logging level use sc.setLogLevel(newLevel). For SparkR, use setLogLevel(newLevel).\n"
     ]
    },
    {
     "name": "stdout",
     "output_type": "stream",
     "text": [
      "22/08/24 10:11:50 WARN NativeCodeLoader: Unable to load native-hadoop library for your platform... using builtin-java classes where applicable\n"
     ]
    }
   ],
   "source": [
    "from pyspark.sql import SparkSession\n",
    "spark=SparkSession.builder.appName(\"spark-sql\").getOrCreate()"
   ]
  },
  {
   "cell_type": "code",
   "execution_count": 4,
   "id": "05b6467a",
   "metadata": {
    "ExecuteTime": {
     "end_time": "2022-08-24T09:11:58.388094Z",
     "start_time": "2022-08-24T09:11:52.500504Z"
    }
   },
   "outputs": [
    {
     "name": "stderr",
     "output_type": "stream",
     "text": [
      "\r",
      "[Stage 0:>                                                          (0 + 1) / 1]\r",
      "\r",
      "                                                                                \r"
     ]
    },
    {
     "name": "stdout",
     "output_type": "stream",
     "text": [
      "root\n",
      " |-- PassengerId: integer (nullable = true)\n",
      " |-- Survived: integer (nullable = true)\n",
      " |-- Pclass: integer (nullable = true)\n",
      " |-- Name: string (nullable = true)\n",
      " |-- Sex: string (nullable = true)\n",
      " |-- Age: double (nullable = true)\n",
      " |-- SibSp: integer (nullable = true)\n",
      " |-- Parch: integer (nullable = true)\n",
      " |-- Ticket: string (nullable = true)\n",
      " |-- Fare: double (nullable = true)\n",
      " |-- Cabin: string (nullable = true)\n",
      " |-- Embarked: string (nullable = true)\n",
      "\n"
     ]
    }
   ],
   "source": [
    "titanic=spark.read.csv(\n",
    "    path=\"/Users/rmn7591/Documents/BITS/semester1/Assignment/MATH/Assignment2/titanic.csv\",\n",
    "    inferSchema=True,\n",
    "    header=True\n",
    ")\n",
    "titanic.printSchema()"
   ]
  },
  {
   "cell_type": "code",
   "execution_count": 4,
   "id": "35f0e63f",
   "metadata": {
    "ExecuteTime": {
     "end_time": "2022-08-23T20:11:23.599333Z",
     "start_time": "2022-08-23T20:11:22.479865Z"
    }
   },
   "outputs": [
    {
     "name": "stdout",
     "output_type": "stream",
     "text": [
      "+-----------+--------+------+--------------------+------+----+-----+-----+----------------+-------+-----+--------+\n",
      "|PassengerId|Survived|Pclass|                Name|   Sex| Age|SibSp|Parch|          Ticket|   Fare|Cabin|Embarked|\n",
      "+-----------+--------+------+--------------------+------+----+-----+-----+----------------+-------+-----+--------+\n",
      "|          1|       0|     3|Braund, Mr. Owen ...|  male|22.0|    1|    0|       A/5 21171|   7.25| null|       S|\n",
      "|          2|       1|     1|Cumings, Mrs. Joh...|female|38.0|    1|    0|        PC 17599|71.2833|  C85|       C|\n",
      "|          3|       1|     3|Heikkinen, Miss. ...|female|26.0|    0|    0|STON/O2. 3101282|  7.925| null|       S|\n",
      "|          4|       1|     1|Futrelle, Mrs. Ja...|female|35.0|    1|    0|          113803|   53.1| C123|       S|\n",
      "|          5|       0|     3|Allen, Mr. Willia...|  male|35.0|    0|    0|          373450|   8.05| null|       S|\n",
      "|          6|       0|     3|    Moran, Mr. James|  male|null|    0|    0|          330877| 8.4583| null|       Q|\n",
      "|          7|       0|     1|McCarthy, Mr. Tim...|  male|54.0|    0|    0|           17463|51.8625|  E46|       S|\n",
      "|          8|       0|     3|Palsson, Master. ...|  male| 2.0|    3|    1|          349909| 21.075| null|       S|\n",
      "|          9|       1|     3|Johnson, Mrs. Osc...|female|27.0|    0|    2|          347742|11.1333| null|       S|\n",
      "|         10|       1|     2|Nasser, Mrs. Nich...|female|14.0|    1|    0|          237736|30.0708| null|       C|\n",
      "+-----------+--------+------+--------------------+------+----+-----+-----+----------------+-------+-----+--------+\n",
      "only showing top 10 rows\n",
      "\n"
     ]
    }
   ],
   "source": [
    "titanic.show(10)"
   ]
  },
  {
   "cell_type": "code",
   "execution_count": 6,
   "id": "be461dc1",
   "metadata": {
    "ExecuteTime": {
     "end_time": "2022-08-23T20:11:58.594000Z",
     "start_time": "2022-08-23T20:11:58.323756Z"
    }
   },
   "outputs": [
    {
     "name": "stdout",
     "output_type": "stream",
     "text": [
      "+------+--------+\n",
      "|   Sex|Survived|\n",
      "+------+--------+\n",
      "|  male|       0|\n",
      "|female|       1|\n",
      "|female|       1|\n",
      "|female|       1|\n",
      "|  male|       0|\n",
      "+------+--------+\n",
      "only showing top 5 rows\n",
      "\n"
     ]
    }
   ],
   "source": [
    "titanic.select(\"Sex\",\"Survived\").show(5)"
   ]
  },
  {
   "cell_type": "code",
   "execution_count": 7,
   "id": "c33a5225",
   "metadata": {
    "ExecuteTime": {
     "end_time": "2022-08-23T20:12:02.600964Z",
     "start_time": "2022-08-23T20:12:01.108437Z"
    }
   },
   "outputs": [
    {
     "name": "stdout",
     "output_type": "stream",
     "text": [
      "+------+-------------+\n",
      "|   Sex|sum(Survived)|\n",
      "+------+-------------+\n",
      "|female|          233|\n",
      "|  male|          109|\n",
      "+------+-------------+\n",
      "\n"
     ]
    }
   ],
   "source": [
    "titanic.select(\"Sex\",\"Survived\").groupBy(\"Sex\").sum().show()"
   ]
  },
  {
   "cell_type": "code",
   "execution_count": 8,
   "id": "3a258a74",
   "metadata": {
    "ExecuteTime": {
     "end_time": "2022-08-23T20:12:06.548938Z",
     "start_time": "2022-08-23T20:12:05.971914Z"
    }
   },
   "outputs": [
    {
     "name": "stdout",
     "output_type": "stream",
     "text": [
      "+-----------+--------+------+--------------------+------+----+-----+-----+----------------+-------+-----+--------+\n",
      "|PassengerId|Survived|Pclass|                Name|   Sex| Age|SibSp|Parch|          Ticket|   Fare|Cabin|Embarked|\n",
      "+-----------+--------+------+--------------------+------+----+-----+-----+----------------+-------+-----+--------+\n",
      "|          1|       0|     3|Braund, Mr. Owen ...|  male|22.0|    1|    0|       A/5 21171|   7.25| null|       S|\n",
      "|          2|       1|     1|Cumings, Mrs. Joh...|female|38.0|    1|    0|        PC 17599|71.2833|  C85|       C|\n",
      "|          3|       1|     3|Heikkinen, Miss. ...|female|26.0|    0|    0|STON/O2. 3101282|  7.925| null|       S|\n",
      "|          4|       1|     1|Futrelle, Mrs. Ja...|female|35.0|    1|    0|          113803|   53.1| C123|       S|\n",
      "|          5|       0|     3|Allen, Mr. Willia...|  male|35.0|    0|    0|          373450|   8.05| null|       S|\n",
      "+-----------+--------+------+--------------------+------+----+-----+-----+----------------+-------+-----+--------+\n",
      "only showing top 5 rows\n",
      "\n"
     ]
    }
   ],
   "source": [
    "titanic.createOrReplaceTempView(\"titanic\")\n",
    "\n",
    "spark.sql(\"SELECT * FROM titanic\").show(5)"
   ]
  },
  {
   "cell_type": "code",
   "execution_count": 9,
   "id": "4c832e25",
   "metadata": {
    "ExecuteTime": {
     "end_time": "2022-08-23T20:12:09.871001Z",
     "start_time": "2022-08-23T20:12:09.218354Z"
    }
   },
   "outputs": [
    {
     "name": "stdout",
     "output_type": "stream",
     "text": [
      "+------+-------------+\n",
      "|   Sex|sum(Survived)|\n",
      "+------+-------------+\n",
      "|female|          233|\n",
      "|  male|          109|\n",
      "+------+-------------+\n",
      "\n"
     ]
    }
   ],
   "source": [
    "spark.sql(\"\"\"\n",
    "    SELECT \n",
    "        Sex,\n",
    "        SUM(Survived)\n",
    "    FROM titanic\n",
    "    GROUP BY Sex\n",
    "\n",
    "\"\"\").show()"
   ]
  },
  {
   "cell_type": "code",
   "execution_count": 10,
   "id": "0835d73f",
   "metadata": {
    "ExecuteTime": {
     "end_time": "2022-08-23T20:12:12.356158Z",
     "start_time": "2022-08-23T20:12:11.387784Z"
    }
   },
   "outputs": [
    {
     "name": "stdout",
     "output_type": "stream",
     "text": [
      "+------+-------+\n",
      "|   Sex|AVERAGE|\n",
      "+------+-------+\n",
      "|female|  27.92|\n",
      "|  male|  30.73|\n",
      "+------+-------+\n",
      "\n"
     ]
    }
   ],
   "source": [
    "spark.sql(\"\"\"\n",
    "    SELECT \n",
    "        Sex,\n",
    "        ROUND(AVG(Age),2) AS AVERAGE\n",
    "    FROM titanic\n",
    "    GROUP BY Sex\n",
    "\n",
    "\"\"\").show()"
   ]
  },
  {
   "cell_type": "code",
   "execution_count": 12,
   "id": "21cb5885",
   "metadata": {
    "ExecuteTime": {
     "end_time": "2022-08-23T20:12:16.134404Z",
     "start_time": "2022-08-23T20:12:15.891847Z"
    }
   },
   "outputs": [
    {
     "name": "stdout",
     "output_type": "stream",
     "text": [
      "+-----------+--------+------+--------------------+------+----+-----+-----+----------------+-------+-----+--------+\n",
      "|PassengerId|Survived|Pclass|                Name|   Sex| Age|SibSp|Parch|          Ticket|   Fare|Cabin|Embarked|\n",
      "+-----------+--------+------+--------------------+------+----+-----+-----+----------------+-------+-----+--------+\n",
      "|          1|       0|     3|Braund, Mr. Owen ...|  male|22.0|    1|    0|       A/5 21171|   7.25| null|       S|\n",
      "|          2|       1|     1|Cumings, Mrs. Joh...|female|38.0|    1|    0|        PC 17599|71.2833|  C85|       C|\n",
      "|          3|       1|     3|Heikkinen, Miss. ...|female|26.0|    0|    0|STON/O2. 3101282|  7.925| null|       S|\n",
      "+-----------+--------+------+--------------------+------+----+-----+-----+----------------+-------+-----+--------+\n",
      "only showing top 3 rows\n",
      "\n"
     ]
    }
   ],
   "source": [
    "titanic.show(3)"
   ]
  },
  {
   "cell_type": "code",
   "execution_count": 11,
   "id": "6b65af2f",
   "metadata": {
    "ExecuteTime": {
     "end_time": "2022-08-23T20:12:14.394963Z",
     "start_time": "2022-08-23T20:12:13.968102Z"
    }
   },
   "outputs": [
    {
     "name": "stdout",
     "output_type": "stream",
     "text": [
      "+-----+--------+\n",
      "|Cabin|HasCabin|\n",
      "+-----+--------+\n",
      "| null|   false|\n",
      "|  C85|    true|\n",
      "| null|   false|\n",
      "| C123|    true|\n",
      "| null|   false|\n",
      "| null|   false|\n",
      "|  E46|    true|\n",
      "| null|   false|\n",
      "| null|   false|\n",
      "| null|   false|\n",
      "+-----+--------+\n",
      "only showing top 10 rows\n",
      "\n"
     ]
    }
   ],
   "source": [
    "spark.sql(\"\"\"\n",
    "    SELECT \n",
    "        Cabin, \n",
    "        CASE \n",
    "            WHEN Cabin IS NOT NULL THEN TRUE\n",
    "            ELSE FALSE\n",
    "        END AS HasCabin\n",
    "    FROM titanic\n",
    "\n",
    "\"\"\").show(10)"
   ]
  },
  {
   "cell_type": "code",
   "execution_count": 13,
   "id": "b35cab2f",
   "metadata": {
    "ExecuteTime": {
     "end_time": "2022-08-23T20:12:19.798801Z",
     "start_time": "2022-08-23T20:12:19.162038Z"
    }
   },
   "outputs": [
    {
     "name": "stdout",
     "output_type": "stream",
     "text": [
      "+-----------+--------+------+--------------------+------+----+-----+-----+----------------+-------+-----+--------+\n",
      "|PassengerId|Survived|Pclass|                Name|   Sex| Age|SibSp|Parch|          Ticket|   Fare|Cabin|Embarked|\n",
      "+-----------+--------+------+--------------------+------+----+-----+-----+----------------+-------+-----+--------+\n",
      "|          1|       0|     3|Braund, Mr. Owen ...|  male|22.0|    1|    0|       A/5 21171|   7.25| null|       S|\n",
      "|          2|       1|     1|Cumings, Mrs. Joh...|female|38.0|    1|    0|        PC 17599|71.2833|  C85|       C|\n",
      "|          3|       1|     3|Heikkinen, Miss. ...|female|26.0|    0|    0|STON/O2. 3101282|  7.925| null|       S|\n",
      "|          4|       1|     1|Futrelle, Mrs. Ja...|female|35.0|    1|    0|          113803|   53.1| C123|       S|\n",
      "|          5|       0|     3|Allen, Mr. Willia...|  male|35.0|    0|    0|          373450|   8.05| null|       S|\n",
      "|          6|       0|     3|    Moran, Mr. James|  male|null|    0|    0|          330877| 8.4583| null|       Q|\n",
      "|          7|       0|     1|McCarthy, Mr. Tim...|  male|54.0|    0|    0|           17463|51.8625|  E46|       S|\n",
      "|          8|       0|     3|Palsson, Master. ...|  male| 2.0|    3|    1|          349909| 21.075| null|       S|\n",
      "|          9|       1|     3|Johnson, Mrs. Osc...|female|27.0|    0|    2|          347742|11.1333| null|       S|\n",
      "|         10|       1|     2|Nasser, Mrs. Nich...|female|14.0|    1|    0|          237736|30.0708| null|       C|\n",
      "|         11|       1|     3|Sandstrom, Miss. ...|female| 4.0|    1|    1|         PP 9549|   16.7|   G6|       S|\n",
      "|         12|       1|     1|Bonnell, Miss. El...|female|58.0|    0|    0|          113783|  26.55| C103|       S|\n",
      "|         13|       0|     3|Saundercock, Mr. ...|  male|20.0|    0|    0|       A/5. 2151|   8.05| null|       S|\n",
      "|         14|       0|     3|Andersson, Mr. An...|  male|39.0|    1|    5|          347082| 31.275| null|       S|\n",
      "|         15|       0|     3|Vestrom, Miss. Hu...|female|14.0|    0|    0|          350406| 7.8542| null|       S|\n",
      "|         16|       1|     2|Hewlett, Mrs. (Ma...|female|55.0|    0|    0|          248706|   16.0| null|       S|\n",
      "|         17|       0|     3|Rice, Master. Eugene|  male| 2.0|    4|    1|          382652| 29.125| null|       Q|\n",
      "|         18|       1|     2|Williams, Mr. Cha...|  male|null|    0|    0|          244373|   13.0| null|       S|\n",
      "|         19|       0|     3|Vander Planke, Mr...|female|31.0|    1|    0|          345763|   18.0| null|       S|\n",
      "|         20|       1|     3|Masselmani, Mrs. ...|female|null|    0|    0|            2649|  7.225| null|       C|\n",
      "+-----------+--------+------+--------------------+------+----+-----+-----+----------------+-------+-----+--------+\n",
      "only showing top 20 rows\n",
      "\n"
     ]
    }
   ],
   "source": [
    "titanic.show()"
   ]
  },
  {
   "cell_type": "code",
   "execution_count": 14,
   "id": "1f64a00d",
   "metadata": {
    "ExecuteTime": {
     "end_time": "2022-08-23T20:12:22.783174Z",
     "start_time": "2022-08-23T20:12:22.400514Z"
    }
   },
   "outputs": [
    {
     "name": "stdout",
     "output_type": "stream",
     "text": [
      "+--------------------+-----+\n",
      "|                name|Title|\n",
      "+--------------------+-----+\n",
      "|Braund, Mr. Owen ...|    B|\n",
      "|Cumings, Mrs. Joh...|    C|\n",
      "|Heikkinen, Miss. ...|    H|\n",
      "|Futrelle, Mrs. Ja...|    F|\n",
      "|Allen, Mr. Willia...|    A|\n",
      "|    Moran, Mr. James|    M|\n",
      "|McCarthy, Mr. Tim...|    M|\n",
      "|Palsson, Master. ...|    P|\n",
      "|Johnson, Mrs. Osc...|    J|\n",
      "|Nasser, Mrs. Nich...|    N|\n",
      "+--------------------+-----+\n",
      "only showing top 10 rows\n",
      "\n"
     ]
    }
   ],
   "source": [
    "spark.sql(\"\"\"\n",
    "    SELECT \n",
    "        name, \n",
    "        REGEXP_EXTRACT(name,'([A-Za-z])\\.') AS Title\n",
    "    FROM titanic\n",
    "\"\"\").show(10)"
   ]
  },
  {
   "cell_type": "code",
   "execution_count": null,
   "id": "98b7a884",
   "metadata": {
    "ExecuteTime": {
     "end_time": "2022-08-23T20:11:24.345152Z",
     "start_time": "2022-08-23T20:11:24.345144Z"
    }
   },
   "outputs": [],
   "source": [
    "# user defined function"
   ]
  },
  {
   "cell_type": "code",
   "execution_count": 16,
   "id": "25d14a57",
   "metadata": {
    "ExecuteTime": {
     "end_time": "2022-08-23T20:12:28.729229Z",
     "start_time": "2022-08-23T20:12:28.707089Z"
    }
   },
   "outputs": [
    {
     "data": {
      "text/plain": [
       "'artapahom eeyameemhsaR'"
      ]
     },
     "execution_count": 16,
     "metadata": {},
     "output_type": "execute_result"
    }
   ],
   "source": [
    "def reverse_name(name):\n",
    "    return name[::-1]\n",
    "\n",
    "reverse_name(\"Rashmeemayee mohapatra\")"
   ]
  },
  {
   "cell_type": "code",
   "execution_count": 17,
   "id": "35d1618f",
   "metadata": {
    "ExecuteTime": {
     "end_time": "2022-08-23T20:12:31.902175Z",
     "start_time": "2022-08-23T20:12:31.833635Z"
    }
   },
   "outputs": [
    {
     "data": {
      "text/plain": [
       "<function __main__.reverse_name(name)>"
      ]
     },
     "execution_count": 17,
     "metadata": {},
     "output_type": "execute_result"
    }
   ],
   "source": [
    "spark.udf.register(\"reverse_name\",reverse_name)"
   ]
  },
  {
   "cell_type": "code",
   "execution_count": 18,
   "id": "b349492a",
   "metadata": {
    "ExecuteTime": {
     "end_time": "2022-08-23T20:12:35.610685Z",
     "start_time": "2022-08-23T20:12:34.068269Z"
    }
   },
   "outputs": [
    {
     "name": "stderr",
     "output_type": "stream",
     "text": [
      "\r",
      "[Stage 19:>                                                         (0 + 1) / 1]\r"
     ]
    },
    {
     "name": "stdout",
     "output_type": "stream",
     "text": [
      "+--------------------+--------------------+\n",
      "|                Name|         Reversename|\n",
      "+--------------------+--------------------+\n",
      "|Braund, Mr. Owen ...|sirraH newO .rM ,...|\n",
      "|Cumings, Mrs. Joh...|)reyahT sggirB ec...|\n",
      "|Heikkinen, Miss. ...|aniaL .ssiM ,neni...|\n",
      "|Futrelle, Mrs. Ja...|)leeP yaM yliL( h...|\n",
      "|Allen, Mr. Willia...|yrneH mailliW .rM...|\n",
      "|    Moran, Mr. James|    semaJ .rM ,naroM|\n",
      "|McCarthy, Mr. Tim...|J yhtomiT .rM ,yh...|\n",
      "|Palsson, Master. ...|dranoeL atsoG .re...|\n",
      "|Johnson, Mrs. Osc...|)greB animlehliV ...|\n",
      "|Nasser, Mrs. Nich...|)mehcA eledA( sal...|\n",
      "|Sandstrom, Miss. ...|tuR etireugraM .s...|\n",
      "|Bonnell, Miss. El...|htebazilE .ssiM ,...|\n",
      "|Saundercock, Mr. ...|yrneH mailliW .rM...|\n",
      "|Andersson, Mr. An...|nahoJ srednA .rM ...|\n",
      "|Vestrom, Miss. Hu...|aniflodA adnamA a...|\n",
      "|Hewlett, Mrs. (Ma...| )emocgniK D yraM...|\n",
      "|Rice, Master. Eugene|eneguE .retsaM ,eciR|\n",
      "|Williams, Mr. Cha...|eneguE selrahC .r...|\n",
      "|Vander Planke, Mr...|)eletroomednaV ai...|\n",
      "|Masselmani, Mrs. ...|amitaF .srM ,inam...|\n",
      "+--------------------+--------------------+\n",
      "only showing top 20 rows\n",
      "\n"
     ]
    },
    {
     "name": "stderr",
     "output_type": "stream",
     "text": [
      "\r",
      "                                                                                \r"
     ]
    }
   ],
   "source": [
    "spark.sql(\"\"\"\n",
    "    SELECT\n",
    "        Name,\n",
    "        reverse_name(Name) AS Reversename\n",
    "    FROM titanic\n",
    "\"\"\").show()"
   ]
  },
  {
   "cell_type": "code",
   "execution_count": 19,
   "id": "9a99b3de",
   "metadata": {
    "ExecuteTime": {
     "end_time": "2022-08-23T20:14:26.487868Z",
     "start_time": "2022-08-23T20:14:26.476300Z"
    }
   },
   "outputs": [
    {
     "data": {
      "text/plain": [
       "'Mr.'"
      ]
     },
     "execution_count": 19,
     "metadata": {},
     "output_type": "execute_result"
    }
   ],
   "source": [
    "def extract_title(name):\n",
    "    return name.split(\",\")[-1].split()[0]\n",
    "\n",
    "extract_title(\"Braund, Mr. Owen\")"
   ]
  },
  {
   "cell_type": "code",
   "execution_count": 20,
   "id": "1489ba49",
   "metadata": {
    "ExecuteTime": {
     "end_time": "2022-08-23T20:15:37.463681Z",
     "start_time": "2022-08-23T20:15:37.444143Z"
    }
   },
   "outputs": [
    {
     "data": {
      "text/plain": [
       "0"
      ]
     },
     "execution_count": 20,
     "metadata": {},
     "output_type": "execute_result"
    }
   ],
   "source": [
    "def is_common_title(title):\n",
    "    return 1 if title in [\"MISS\", \"Mr\",\"Mrs\"] else 0\n",
    "\n",
    "is_common_title(\"Dr\")"
   ]
  },
  {
   "cell_type": "code",
   "execution_count": 21,
   "id": "ebb35635",
   "metadata": {
    "ExecuteTime": {
     "end_time": "2022-08-23T20:16:18.003743Z",
     "start_time": "2022-08-23T20:16:17.990578Z"
    }
   },
   "outputs": [
    {
     "data": {
      "text/plain": [
       "0"
      ]
     },
     "execution_count": 21,
     "metadata": {},
     "output_type": "execute_result"
    }
   ],
   "source": [
    "def remap_gender(gender):\n",
    "    return 1 if gender==\"male\" else 0\n",
    "\n",
    "remap_gender(\"female\")"
   ]
  },
  {
   "cell_type": "code",
   "execution_count": 23,
   "id": "ce83a6c0",
   "metadata": {
    "ExecuteTime": {
     "end_time": "2022-08-23T20:17:06.817703Z",
     "start_time": "2022-08-23T20:17:06.801547Z"
    }
   },
   "outputs": [
    {
     "data": {
      "text/plain": [
       "0"
      ]
     },
     "execution_count": 23,
     "metadata": {},
     "output_type": "execute_result"
    }
   ],
   "source": [
    "def has_cabin(cabin):\n",
    "    return 1 if cabin else 0\n",
    "\n",
    "has_cabin(\"\")"
   ]
  },
  {
   "cell_type": "code",
   "execution_count": 24,
   "id": "4c18a270",
   "metadata": {
    "ExecuteTime": {
     "end_time": "2022-08-23T20:17:40.071958Z",
     "start_time": "2022-08-23T20:17:40.060475Z"
    }
   },
   "outputs": [
    {
     "data": {
      "text/plain": [
       "15"
      ]
     },
     "execution_count": 24,
     "metadata": {},
     "output_type": "execute_result"
    }
   ],
   "source": [
    "def replace_missing_age(age,value):\n",
    "    return age if age else value\n",
    "\n",
    "replace_missing_age(15,-1)"
   ]
  },
  {
   "cell_type": "code",
   "execution_count": 25,
   "id": "6552ca81",
   "metadata": {
    "ExecuteTime": {
     "end_time": "2022-08-23T20:19:01.927459Z",
     "start_time": "2022-08-23T20:19:01.775202Z"
    }
   },
   "outputs": [
    {
     "data": {
      "text/plain": [
       "<function __main__.replace_missing_age(age, value)>"
      ]
     },
     "execution_count": 25,
     "metadata": {},
     "output_type": "execute_result"
    }
   ],
   "source": [
    "spark.udf.register(\"extract_title\",extract_title)\n",
    "spark.udf.register(\"is_common_title\",is_common_title)\n",
    "spark.udf.register(\"remap_gender\",remap_gender)\n",
    "spark.udf.register(\"has_cabin\",has_cabin)\n",
    "spark.udf.register(\"replace_missing_age\",replace_missing_age)"
   ]
  },
  {
   "cell_type": "code",
   "execution_count": null,
   "id": "dd83a3b1",
   "metadata": {},
   "outputs": [],
   "source": [
    "# create a view before using udf function"
   ]
  },
  {
   "cell_type": "code",
   "execution_count": 26,
   "id": "4bf7fe34",
   "metadata": {
    "ExecuteTime": {
     "end_time": "2022-08-23T20:20:14.200825Z",
     "start_time": "2022-08-23T20:20:14.128486Z"
    }
   },
   "outputs": [],
   "source": [
    "titanic.createOrReplaceTempView(\"titanic\")"
   ]
  },
  {
   "cell_type": "code",
   "execution_count": 28,
   "id": "04eed71c",
   "metadata": {
    "ExecuteTime": {
     "end_time": "2022-08-23T20:24:58.090340Z",
     "start_time": "2022-08-23T20:24:57.181676Z"
    }
   },
   "outputs": [
    {
     "name": "stdout",
     "output_type": "stream",
     "text": [
      "+--------+------+-------+---------------+------+----+-----+-----+-------+--------+--------+\n",
      "|Survived|Pclass|  Title|is_common_title|Ismale| Age|SibSp|Parch|   Fare|HasCabin|Embarked|\n",
      "+--------+------+-------+---------------+------+----+-----+-----+-------+--------+--------+\n",
      "|       0|     3|    Mr.|              0|     1|22.0|    1|    0|   7.25|       0|       S|\n",
      "|       1|     1|   Mrs.|              0|     0|38.0|    1|    0|71.2833|       1|       C|\n",
      "|       1|     3|  Miss.|              0|     0|26.0|    0|    0|  7.925|       0|       S|\n",
      "|       1|     1|   Mrs.|              0|     0|35.0|    1|    0|   53.1|       1|       S|\n",
      "|       0|     3|    Mr.|              0|     1|35.0|    0|    0|   8.05|       0|       S|\n",
      "|       0|     3|    Mr.|              0|     1|  -1|    0|    0| 8.4583|       0|       Q|\n",
      "|       0|     1|    Mr.|              0|     1|54.0|    0|    0|51.8625|       1|       S|\n",
      "|       0|     3|Master.|              0|     1| 2.0|    3|    1| 21.075|       0|       S|\n",
      "|       1|     3|   Mrs.|              0|     0|27.0|    0|    2|11.1333|       0|       S|\n",
      "|       1|     2|   Mrs.|              0|     0|14.0|    1|    0|30.0708|       0|       C|\n",
      "+--------+------+-------+---------------+------+----+-----+-----+-------+--------+--------+\n",
      "only showing top 10 rows\n",
      "\n"
     ]
    }
   ],
   "source": [
    "spark.sql(\"\"\"\n",
    "    SELECT\n",
    "        Survived,\n",
    "        Pclass,\n",
    "        extract_title(Name) as Title,\n",
    "        is_common_title(extract_title(Name)) As is_common_title,\n",
    "        remap_gender(Sex) as Ismale,\n",
    "        replace_missing_age(Age,-1) As Age,\n",
    "        SibSp,\n",
    "        Parch,\n",
    "        Fare,\n",
    "        has_cabin(Cabin) As HasCabin,\n",
    "        Embarked\n",
    "    FROM titanic\n",
    "\n",
    "\n",
    "\"\"\").show(10)"
   ]
  },
  {
   "cell_type": "code",
   "execution_count": 29,
   "id": "79e22585",
   "metadata": {
    "ExecuteTime": {
     "end_time": "2022-08-23T20:26:37.883846Z",
     "start_time": "2022-08-23T20:26:37.153982Z"
    }
   },
   "outputs": [
    {
     "name": "stdout",
     "output_type": "stream",
     "text": [
      "+--------+------+-------+---------------+------+----+-----+-----+-------+--------+--------+\n",
      "|Survived|Pclass|  Title|is_common_title|Ismale| Age|SibSp|Parch|   Fare|HasCabin|Embarked|\n",
      "+--------+------+-------+---------------+------+----+-----+-----+-------+--------+--------+\n",
      "|       0|     3|    Mr.|              0|     1|22.0|    1|    0|   7.25|       0|       S|\n",
      "|       1|     1|   Mrs.|              0|     0|38.0|    1|    0|71.2833|       1|       C|\n",
      "|       1|     3|  Miss.|              0|     0|26.0|    0|    0|  7.925|       0|       S|\n",
      "|       1|     1|   Mrs.|              0|     0|35.0|    1|    0|   53.1|       1|       S|\n",
      "|       0|     3|    Mr.|              0|     1|35.0|    0|    0|   8.05|       0|       S|\n",
      "|       0|     3|    Mr.|              0|     1|  -1|    0|    0| 8.4583|       0|       Q|\n",
      "|       0|     1|    Mr.|              0|     1|54.0|    0|    0|51.8625|       1|       S|\n",
      "|       0|     3|Master.|              0|     1| 2.0|    3|    1| 21.075|       0|       S|\n",
      "|       1|     3|   Mrs.|              0|     0|27.0|    0|    2|11.1333|       0|       S|\n",
      "|       1|     2|   Mrs.|              0|     0|14.0|    1|    0|30.0708|       0|       C|\n",
      "+--------+------+-------+---------------+------+----+-----+-----+-------+--------+--------+\n",
      "only showing top 10 rows\n",
      "\n"
     ]
    }
   ],
   "source": [
    "spark.sql(\"\"\"\n",
    "    SELECT * FROM(\n",
    "        SELECT\n",
    "            Survived,\n",
    "            Pclass,\n",
    "            extract_title(Name) as Title,\n",
    "            is_common_title(extract_title(Name)) As is_common_title,\n",
    "            remap_gender(Sex) as Ismale,\n",
    "            replace_missing_age(Age,-1) As Age,\n",
    "            SibSp,\n",
    "            Parch,\n",
    "            Fare,\n",
    "            has_cabin(Cabin) As HasCabin,\n",
    "            Embarked\n",
    "        FROM titanic\n",
    "    )WHERE is_common_title=0\n",
    "\n",
    "\"\"\").show(10)"
   ]
  },
  {
   "cell_type": "code",
   "execution_count": 30,
   "id": "1a1e0abb",
   "metadata": {
    "ExecuteTime": {
     "end_time": "2022-08-23T20:47:17.441027Z",
     "start_time": "2022-08-23T20:47:16.252512Z"
    }
   },
   "outputs": [
    {
     "data": {
      "text/plain": [
       "891"
      ]
     },
     "execution_count": 30,
     "metadata": {},
     "output_type": "execute_result"
    }
   ],
   "source": [
    "titanic.count()"
   ]
  },
  {
   "cell_type": "code",
   "execution_count": 40,
   "id": "3810345d",
   "metadata": {
    "ExecuteTime": {
     "end_time": "2022-08-23T20:55:00.462265Z",
     "start_time": "2022-08-23T20:55:00.451325Z"
    },
    "scrolled": true
   },
   "outputs": [
    {
     "data": {
      "text/plain": [
       "['PassengerId',\n",
       " 'Survived',\n",
       " 'Pclass',\n",
       " 'Name',\n",
       " 'Sex',\n",
       " 'Age',\n",
       " 'SibSp',\n",
       " 'Parch',\n",
       " 'Ticket',\n",
       " 'Fare',\n",
       " 'Cabin',\n",
       " 'Embarked']"
      ]
     },
     "execution_count": 40,
     "metadata": {},
     "output_type": "execute_result"
    }
   ],
   "source": [
    "titanic.columns"
   ]
  },
  {
   "cell_type": "code",
   "execution_count": 39,
   "id": "1daec129",
   "metadata": {
    "ExecuteTime": {
     "end_time": "2022-08-23T20:51:14.891965Z",
     "start_time": "2022-08-23T20:51:14.553916Z"
    }
   },
   "outputs": [
    {
     "name": "stdout",
     "output_type": "stream",
     "text": [
      "+--------------------+----+\n",
      "|                name| sex|\n",
      "+--------------------+----+\n",
      "|Lobb, Mr. William...|male|\n",
      "|Walker, Mr. Willi...|male|\n",
      "|  Harris, Mr. George|male|\n",
      "|Newell, Mr. Arthu...|male|\n",
      "|     Adams, Mr. John|male|\n",
      "|  Harris, Mr. Walter|male|\n",
      "|Hodges, Mr. Henry...|male|\n",
      "|Jensen, Mr. Niels...|male|\n",
      "|Bracken, Mr. James H|male|\n",
      "|   Gee, Mr. Arthur H|male|\n",
      "|\"Flynn, Mr. John ...|male|\n",
      "|Elsbury, Mr. Will...|male|\n",
      "|   Harper, Rev. John|male|\n",
      "|Roebling, Mr. Was...|male|\n",
      "|Chronopoulos, Mr....|male|\n",
      "|   Reeves, Mr. David|male|\n",
      "|Daniel, Mr. Rober...|male|\n",
      "|     Cook, Mr. Jacob|male|\n",
      "|Holm, Mr. John Fr...|male|\n",
      "|Attalah, Mr. Sleiman|male|\n",
      "+--------------------+----+\n",
      "only showing top 20 rows\n",
      "\n"
     ]
    }
   ],
   "source": [
    "spark.sql(\"\"\"\n",
    "    SELECT \n",
    "        distinct(name),\n",
    "        sex\n",
    "    FROM titanic\n",
    "    WHERE AGE >=25 AND Sex='male'\n",
    "\n",
    "\"\"\").show()"
   ]
  },
  {
   "cell_type": "code",
   "execution_count": 41,
   "id": "29668595",
   "metadata": {
    "ExecuteTime": {
     "end_time": "2022-08-23T20:57:41.300941Z",
     "start_time": "2022-08-23T20:57:41.282937Z"
    }
   },
   "outputs": [
    {
     "name": "stdout",
     "output_type": "stream",
     "text": [
      "root\n",
      " |-- PassengerId: integer (nullable = true)\n",
      " |-- Survived: integer (nullable = true)\n",
      " |-- Pclass: integer (nullable = true)\n",
      " |-- Name: string (nullable = true)\n",
      " |-- Sex: string (nullable = true)\n",
      " |-- Age: double (nullable = true)\n",
      " |-- SibSp: integer (nullable = true)\n",
      " |-- Parch: integer (nullable = true)\n",
      " |-- Ticket: string (nullable = true)\n",
      " |-- Fare: double (nullable = true)\n",
      " |-- Cabin: string (nullable = true)\n",
      " |-- Embarked: string (nullable = true)\n",
      "\n"
     ]
    }
   ],
   "source": [
    "titanic.printSchema()"
   ]
  },
  {
   "cell_type": "code",
   "execution_count": 42,
   "id": "4002026a",
   "metadata": {
    "ExecuteTime": {
     "end_time": "2022-08-23T20:59:03.043534Z",
     "start_time": "2022-08-23T20:59:02.977053Z"
    }
   },
   "outputs": [
    {
     "data": {
      "text/plain": [
       "DataFrame[PassengerId: int, Survived: int, Pclass: int, Name: string, Sex: string, Age: double, SibSp: int, Parch: int, Ticket: string, Fare: double, Cabin: string, Embarked: string]"
      ]
     },
     "execution_count": 42,
     "metadata": {},
     "output_type": "execute_result"
    }
   ],
   "source": [
    "titanic.limit(5)"
   ]
  },
  {
   "cell_type": "code",
   "execution_count": 43,
   "id": "d85b6c1f",
   "metadata": {
    "ExecuteTime": {
     "end_time": "2022-08-23T20:59:40.823155Z",
     "start_time": "2022-08-23T20:59:40.773085Z"
    }
   },
   "outputs": [
    {
     "data": {
      "text/plain": [
       "DataFrame[PassengerId: int, Survived: int, Pclass: int, Name: string, Sex: string, Age: double, SibSp: int, Parch: int, Ticket: string, Fare: double, Cabin: string, Embarked: string]"
      ]
     },
     "execution_count": 43,
     "metadata": {},
     "output_type": "execute_result"
    }
   ],
   "source": [
    "titanic.select('*')"
   ]
  },
  {
   "cell_type": "code",
   "execution_count": 47,
   "id": "04ec6cf0",
   "metadata": {
    "ExecuteTime": {
     "end_time": "2022-08-23T21:00:28.742123Z",
     "start_time": "2022-08-23T21:00:28.712402Z"
    }
   },
   "outputs": [
    {
     "data": {
      "text/plain": [
       "DataFrame[Survived: int, Name: string]"
      ]
     },
     "execution_count": 47,
     "metadata": {},
     "output_type": "execute_result"
    }
   ],
   "source": [
    "titanic.select(\"Survived\",\"Name\")"
   ]
  },
  {
   "cell_type": "code",
   "execution_count": 48,
   "id": "5a54ed68",
   "metadata": {
    "ExecuteTime": {
     "end_time": "2022-08-23T21:00:30.767122Z",
     "start_time": "2022-08-23T21:00:30.655519Z"
    }
   },
   "outputs": [
    {
     "name": "stdout",
     "output_type": "stream",
     "text": [
      "+--------+--------------------+\n",
      "|Survived|                Name|\n",
      "+--------+--------------------+\n",
      "|       0|Braund, Mr. Owen ...|\n",
      "|       1|Cumings, Mrs. Joh...|\n",
      "|       1|Heikkinen, Miss. ...|\n",
      "|       1|Futrelle, Mrs. Ja...|\n",
      "|       0|Allen, Mr. Willia...|\n",
      "|       0|    Moran, Mr. James|\n",
      "|       0|McCarthy, Mr. Tim...|\n",
      "|       0|Palsson, Master. ...|\n",
      "|       1|Johnson, Mrs. Osc...|\n",
      "|       1|Nasser, Mrs. Nich...|\n",
      "|       1|Sandstrom, Miss. ...|\n",
      "|       1|Bonnell, Miss. El...|\n",
      "|       0|Saundercock, Mr. ...|\n",
      "|       0|Andersson, Mr. An...|\n",
      "|       0|Vestrom, Miss. Hu...|\n",
      "|       1|Hewlett, Mrs. (Ma...|\n",
      "|       0|Rice, Master. Eugene|\n",
      "|       1|Williams, Mr. Cha...|\n",
      "|       0|Vander Planke, Mr...|\n",
      "|       1|Masselmani, Mrs. ...|\n",
      "+--------+--------------------+\n",
      "only showing top 20 rows\n",
      "\n"
     ]
    }
   ],
   "source": [
    "titanic.select(\"Survived\",\"Name\").show()"
   ]
  },
  {
   "cell_type": "code",
   "execution_count": 50,
   "id": "c9f5d5cf",
   "metadata": {
    "ExecuteTime": {
     "end_time": "2022-08-23T21:00:58.504949Z",
     "start_time": "2022-08-23T21:00:58.232891Z"
    }
   },
   "outputs": [
    {
     "name": "stdout",
     "output_type": "stream",
     "text": [
      "+-----------+--------+------+--------------------+------+----+-----+-----+----------------+-------+-----+--------+\n",
      "|PassengerId|Survived|Pclass|                Name|   Sex| Age|SibSp|Parch|          Ticket|   Fare|Cabin|Embarked|\n",
      "+-----------+--------+------+--------------------+------+----+-----+-----+----------------+-------+-----+--------+\n",
      "|          2|       1|     1|Cumings, Mrs. Joh...|female|38.0|    1|    0|        PC 17599|71.2833|  C85|       C|\n",
      "|          3|       1|     3|Heikkinen, Miss. ...|female|26.0|    0|    0|STON/O2. 3101282|  7.925| null|       S|\n",
      "|          4|       1|     1|Futrelle, Mrs. Ja...|female|35.0|    1|    0|          113803|   53.1| C123|       S|\n",
      "|          5|       0|     3|Allen, Mr. Willia...|  male|35.0|    0|    0|          373450|   8.05| null|       S|\n",
      "|          7|       0|     1|McCarthy, Mr. Tim...|  male|54.0|    0|    0|           17463|51.8625|  E46|       S|\n",
      "|          9|       1|     3|Johnson, Mrs. Osc...|female|27.0|    0|    2|          347742|11.1333| null|       S|\n",
      "|         12|       1|     1|Bonnell, Miss. El...|female|58.0|    0|    0|          113783|  26.55| C103|       S|\n",
      "|         14|       0|     3|Andersson, Mr. An...|  male|39.0|    1|    5|          347082| 31.275| null|       S|\n",
      "|         16|       1|     2|Hewlett, Mrs. (Ma...|female|55.0|    0|    0|          248706|   16.0| null|       S|\n",
      "|         19|       0|     3|Vander Planke, Mr...|female|31.0|    1|    0|          345763|   18.0| null|       S|\n",
      "|         21|       0|     2|Fynney, Mr. Joseph J|  male|35.0|    0|    0|          239865|   26.0| null|       S|\n",
      "|         22|       1|     2|Beesley, Mr. Lawr...|  male|34.0|    0|    0|          248698|   13.0|  D56|       S|\n",
      "|         24|       1|     1|Sloper, Mr. Willi...|  male|28.0|    0|    0|          113788|   35.5|   A6|       S|\n",
      "|         26|       1|     3|Asplund, Mrs. Car...|female|38.0|    1|    5|          347077|31.3875| null|       S|\n",
      "|         31|       0|     1|Uruchurtu, Don. M...|  male|40.0|    0|    0|        PC 17601|27.7208| null|       C|\n",
      "|         34|       0|     2|Wheadon, Mr. Edwa...|  male|66.0|    0|    0|      C.A. 24579|   10.5| null|       S|\n",
      "|         35|       0|     1|Meyer, Mr. Edgar ...|  male|28.0|    1|    0|        PC 17604|82.1708| null|       C|\n",
      "|         36|       0|     1|Holverson, Mr. Al...|  male|42.0|    1|    0|          113789|   52.0| null|       S|\n",
      "|         41|       0|     3|Ahlin, Mrs. Johan...|female|40.0|    1|    0|            7546|  9.475| null|       S|\n",
      "|         42|       0|     2|Turpin, Mrs. Will...|female|27.0|    1|    0|           11668|   21.0| null|       S|\n",
      "+-----------+--------+------+--------------------+------+----+-----+-----+----------------+-------+-----+--------+\n",
      "only showing top 20 rows\n",
      "\n"
     ]
    }
   ],
   "source": [
    "titanic.where(titanic.Age>25).show()"
   ]
  },
  {
   "cell_type": "code",
   "execution_count": 52,
   "id": "eb80cac9",
   "metadata": {
    "ExecuteTime": {
     "end_time": "2022-08-23T21:01:52.622891Z",
     "start_time": "2022-08-23T21:01:52.335684Z"
    }
   },
   "outputs": [
    {
     "name": "stdout",
     "output_type": "stream",
     "text": [
      "+-----------+--------+------+--------------------+------+----+-----+-----+----------------+-------+-----+--------+\n",
      "|PassengerId|Survived|Pclass|                Name|   Sex| Age|SibSp|Parch|          Ticket|   Fare|Cabin|Embarked|\n",
      "+-----------+--------+------+--------------------+------+----+-----+-----+----------------+-------+-----+--------+\n",
      "|          2|       1|     1|Cumings, Mrs. Joh...|female|38.0|    1|    0|        PC 17599|71.2833|  C85|       C|\n",
      "|          3|       1|     3|Heikkinen, Miss. ...|female|26.0|    0|    0|STON/O2. 3101282|  7.925| null|       S|\n",
      "|          4|       1|     1|Futrelle, Mrs. Ja...|female|35.0|    1|    0|          113803|   53.1| C123|       S|\n",
      "|          9|       1|     3|Johnson, Mrs. Osc...|female|27.0|    0|    2|          347742|11.1333| null|       S|\n",
      "|         12|       1|     1|Bonnell, Miss. El...|female|58.0|    0|    0|          113783|  26.55| C103|       S|\n",
      "|         16|       1|     2|Hewlett, Mrs. (Ma...|female|55.0|    0|    0|          248706|   16.0| null|       S|\n",
      "|         22|       1|     2|Beesley, Mr. Lawr...|  male|34.0|    0|    0|          248698|   13.0|  D56|       S|\n",
      "|         24|       1|     1|Sloper, Mr. Willi...|  male|28.0|    0|    0|          113788|   35.5|   A6|       S|\n",
      "|         26|       1|     3|Asplund, Mrs. Car...|female|38.0|    1|    5|          347077|31.3875| null|       S|\n",
      "|         53|       1|     1|Harper, Mrs. Henr...|female|49.0|    1|    0|        PC 17572|76.7292|  D33|       C|\n",
      "|         54|       1|     2|Faunthorpe, Mrs. ...|female|29.0|    1|    0|            2926|   26.0| null|       S|\n",
      "|         62|       1|     1| Icard, Miss. Amelie|female|38.0|    0|    0|          113572|   80.0|  B28|    null|\n",
      "|         67|       1|     2|Nye, Mrs. (Elizab...|female|29.0|    0|    0|      C.A. 29395|   10.5|  F33|       S|\n",
      "|         75|       1|     3|       Bing, Mr. Lee|  male|32.0|    0|    0|            1601|56.4958| null|       S|\n",
      "|         80|       1|     3|Dowdell, Miss. El...|female|30.0|    0|    0|          364516| 12.475| null|       S|\n",
      "|         82|       1|     3|Sheerlinck, Mr. J...|  male|29.0|    0|    0|          345779|    9.5| null|       S|\n",
      "|         86|       1|     3|Backstrom, Mrs. K...|female|33.0|    3|    0|         3101278|  15.85| null|       S|\n",
      "|         99|       1|     2|Doling, Mrs. John...|female|34.0|    0|    1|          231919|   23.0| null|       S|\n",
      "|        124|       1|     2| Webber, Miss. Susan|female|32.5|    0|    0|           27267|   13.0| E101|       S|\n",
      "|        134|       1|     2|Weisz, Mrs. Leopo...|female|29.0|    1|    0|          228414|   26.0| null|       S|\n",
      "+-----------+--------+------+--------------------+------+----+-----+-----+----------------+-------+-----+--------+\n",
      "only showing top 20 rows\n",
      "\n"
     ]
    }
   ],
   "source": [
    "titanic.where((titanic.Age>25)& (titanic.Survived==1)).show()"
   ]
  },
  {
   "cell_type": "code",
   "execution_count": 54,
   "id": "c22773dc",
   "metadata": {
    "ExecuteTime": {
     "end_time": "2022-08-23T21:02:23.019120Z",
     "start_time": "2022-08-23T21:02:22.227058Z"
    }
   },
   "outputs": [
    {
     "name": "stdout",
     "output_type": "stream",
     "text": [
      "+----------------+\n",
      "|       avg(fare)|\n",
      "+----------------+\n",
      "|32.2042079685746|\n",
      "+----------------+\n",
      "\n"
     ]
    }
   ],
   "source": [
    "titanic.agg({\"fare\":'avg'}).show()"
   ]
  },
  {
   "cell_type": "code",
   "execution_count": 55,
   "id": "77a0ed55",
   "metadata": {
    "ExecuteTime": {
     "end_time": "2022-08-23T21:03:40.224533Z",
     "start_time": "2022-08-23T21:03:39.206317Z"
    }
   },
   "outputs": [
    {
     "name": "stdout",
     "output_type": "stream",
     "text": [
      "+------+------------------+\n",
      "|Pclass|         avg(fare)|\n",
      "+------+------------------+\n",
      "|     1| 84.15468749999992|\n",
      "|     3|13.675550101832997|\n",
      "|     2| 20.66218315217391|\n",
      "+------+------------------+\n",
      "\n"
     ]
    }
   ],
   "source": [
    "titanic.groupBy(\"Pclass\").agg({\"fare\":\"avg\"}).show()"
   ]
  },
  {
   "cell_type": "code",
   "execution_count": 58,
   "id": "60173166",
   "metadata": {
    "ExecuteTime": {
     "end_time": "2022-08-23T21:04:39.947168Z",
     "start_time": "2022-08-23T21:04:39.298877Z"
    }
   },
   "outputs": [
    {
     "name": "stdout",
     "output_type": "stream",
     "text": [
      "+------+------------------+\n",
      "|Pclass|         avg(fare)|\n",
      "+------+------------------+\n",
      "|     1| 84.15468749999992|\n",
      "|     2| 20.66218315217391|\n",
      "|     3|13.675550101832997|\n",
      "+------+------------------+\n",
      "\n"
     ]
    }
   ],
   "source": [
    "titanic.groupBy(\"Pclass\").agg({\"fare\":\"avg\"}).orderBy('Pclass',ascending=True).show()"
   ]
  },
  {
   "cell_type": "code",
   "execution_count": 60,
   "id": "fa336322",
   "metadata": {
    "ExecuteTime": {
     "end_time": "2022-08-23T21:05:18.084122Z",
     "start_time": "2022-08-23T21:05:17.772901Z"
    }
   },
   "outputs": [
    {
     "name": "stdout",
     "output_type": "stream",
     "text": [
      "+-----------------+\n",
      "|        avg(Fare)|\n",
      "+-----------------+\n",
      "|37.61960169491524|\n",
      "+-----------------+\n",
      "\n"
     ]
    }
   ],
   "source": [
    "titanic.filter(titanic.Age>25).agg({\"Fare\":\"avg\"}).show()"
   ]
  },
  {
   "cell_type": "code",
   "execution_count": 63,
   "id": "51cb4a7e",
   "metadata": {
    "ExecuteTime": {
     "end_time": "2022-08-23T21:09:10.721854Z",
     "start_time": "2022-08-23T21:09:10.709398Z"
    }
   },
   "outputs": [],
   "source": [
    "from pyspark.sql.types import IntegerType\n",
    "from pyspark.sql.functions import udf"
   ]
  },
  {
   "cell_type": "code",
   "execution_count": 68,
   "id": "7b7eb4ba",
   "metadata": {
    "ExecuteTime": {
     "end_time": "2022-08-23T21:11:22.540508Z",
     "start_time": "2022-08-23T21:11:21.248438Z"
    }
   },
   "outputs": [
    {
     "name": "stdout",
     "output_type": "stream",
     "text": [
      "+-----------+-------+-----------------+\n",
      "|PassengerId|   Fare|Fare Rounded Down|\n",
      "+-----------+-------+-----------------+\n",
      "|          1|   7.25|                7|\n",
      "|          2|71.2833|               71|\n",
      "|          3|  7.925|                7|\n",
      "|          4|   53.1|               53|\n",
      "|          5|   8.05|                8|\n",
      "|          6| 8.4583|                8|\n",
      "|          7|51.8625|               51|\n",
      "|          8| 21.075|               21|\n",
      "|          9|11.1333|               11|\n",
      "|         10|30.0708|               30|\n",
      "|         11|   16.7|               16|\n",
      "|         12|  26.55|               26|\n",
      "|         13|   8.05|                8|\n",
      "|         14| 31.275|               31|\n",
      "|         15| 7.8542|                7|\n",
      "|         16|   16.0|               16|\n",
      "|         17| 29.125|               29|\n",
      "|         18|   13.0|               13|\n",
      "|         19|   18.0|               18|\n",
      "|         20|  7.225|                7|\n",
      "+-----------+-------+-----------------+\n",
      "only showing top 20 rows\n",
      "\n"
     ]
    }
   ],
   "source": [
    "def round_float_down(x):\n",
    "    return int(x)\n",
    "\n",
    "round_float_down_udf = udf(round_float_down,IntegerType())\n",
    "titanic.select('PassengerId','Fare',round_float_down_udf('Fare').alias('Fare Rounded Down')).show()"
   ]
  },
  {
   "cell_type": "code",
   "execution_count": 69,
   "id": "e55f7ff2",
   "metadata": {
    "ExecuteTime": {
     "end_time": "2022-08-23T21:12:48.014449Z",
     "start_time": "2022-08-23T21:12:47.822828Z"
    }
   },
   "outputs": [],
   "source": [
    "titanic.createGlobalTempView(\"titanic\")"
   ]
  },
  {
   "cell_type": "code",
   "execution_count": 70,
   "id": "2358dc89",
   "metadata": {
    "ExecuteTime": {
     "end_time": "2022-08-23T21:12:50.904179Z",
     "start_time": "2022-08-23T21:12:50.143350Z"
    }
   },
   "outputs": [
    {
     "name": "stdout",
     "output_type": "stream",
     "text": [
      "+-----------+--------+------+--------------------+------+----+-----+-----+----------------+-------+-----+--------+\n",
      "|PassengerId|Survived|Pclass|                Name|   Sex| Age|SibSp|Parch|          Ticket|   Fare|Cabin|Embarked|\n",
      "+-----------+--------+------+--------------------+------+----+-----+-----+----------------+-------+-----+--------+\n",
      "|          1|       0|     3|Braund, Mr. Owen ...|  male|22.0|    1|    0|       A/5 21171|   7.25| null|       S|\n",
      "|          2|       1|     1|Cumings, Mrs. Joh...|female|38.0|    1|    0|        PC 17599|71.2833|  C85|       C|\n",
      "|          3|       1|     3|Heikkinen, Miss. ...|female|26.0|    0|    0|STON/O2. 3101282|  7.925| null|       S|\n",
      "|          4|       1|     1|Futrelle, Mrs. Ja...|female|35.0|    1|    0|          113803|   53.1| C123|       S|\n",
      "|          5|       0|     3|Allen, Mr. Willia...|  male|35.0|    0|    0|          373450|   8.05| null|       S|\n",
      "|          6|       0|     3|    Moran, Mr. James|  male|null|    0|    0|          330877| 8.4583| null|       Q|\n",
      "|          7|       0|     1|McCarthy, Mr. Tim...|  male|54.0|    0|    0|           17463|51.8625|  E46|       S|\n",
      "|          8|       0|     3|Palsson, Master. ...|  male| 2.0|    3|    1|          349909| 21.075| null|       S|\n",
      "|          9|       1|     3|Johnson, Mrs. Osc...|female|27.0|    0|    2|          347742|11.1333| null|       S|\n",
      "|         10|       1|     2|Nasser, Mrs. Nich...|female|14.0|    1|    0|          237736|30.0708| null|       C|\n",
      "|         11|       1|     3|Sandstrom, Miss. ...|female| 4.0|    1|    1|         PP 9549|   16.7|   G6|       S|\n",
      "|         12|       1|     1|Bonnell, Miss. El...|female|58.0|    0|    0|          113783|  26.55| C103|       S|\n",
      "|         13|       0|     3|Saundercock, Mr. ...|  male|20.0|    0|    0|       A/5. 2151|   8.05| null|       S|\n",
      "|         14|       0|     3|Andersson, Mr. An...|  male|39.0|    1|    5|          347082| 31.275| null|       S|\n",
      "|         15|       0|     3|Vestrom, Miss. Hu...|female|14.0|    0|    0|          350406| 7.8542| null|       S|\n",
      "|         16|       1|     2|Hewlett, Mrs. (Ma...|female|55.0|    0|    0|          248706|   16.0| null|       S|\n",
      "|         17|       0|     3|Rice, Master. Eugene|  male| 2.0|    4|    1|          382652| 29.125| null|       Q|\n",
      "|         18|       1|     2|Williams, Mr. Cha...|  male|null|    0|    0|          244373|   13.0| null|       S|\n",
      "|         19|       0|     3|Vander Planke, Mr...|female|31.0|    1|    0|          345763|   18.0| null|       S|\n",
      "|         20|       1|     3|Masselmani, Mrs. ...|female|null|    0|    0|            2649|  7.225| null|       C|\n",
      "+-----------+--------+------+--------------------+------+----+-----+-----+----------------+-------+-----+--------+\n",
      "only showing top 20 rows\n",
      "\n"
     ]
    }
   ],
   "source": [
    "spark.sql(\"\"\"\n",
    "    SELECT * FROM\n",
    "    titanic\n",
    "\n",
    "\"\"\").show()"
   ]
  },
  {
   "cell_type": "code",
   "execution_count": 6,
   "id": "58b48c6e",
   "metadata": {
    "ExecuteTime": {
     "end_time": "2022-08-24T09:12:28.000510Z",
     "start_time": "2022-08-24T09:12:27.576238Z"
    }
   },
   "outputs": [
    {
     "name": "stdout",
     "output_type": "stream",
     "text": [
      "+--------------+\n",
      "|current_user()|\n",
      "+--------------+\n",
      "|       rmn7591|\n",
      "+--------------+\n",
      "\n"
     ]
    }
   ],
   "source": [
    "# to know the current user\n",
    "\n",
    "spark.sql(\"\"\"\n",
    "    SELECT current_user()\n",
    "\"\"\").show()"
   ]
  },
  {
   "cell_type": "code",
   "execution_count": null,
   "id": "74dc3703",
   "metadata": {},
   "outputs": [],
   "source": []
  },
  {
   "cell_type": "code",
   "execution_count": null,
   "id": "026e988b",
   "metadata": {},
   "outputs": [],
   "source": []
  },
  {
   "cell_type": "code",
   "execution_count": null,
   "id": "f01b21f2",
   "metadata": {},
   "outputs": [],
   "source": []
  }
 ],
 "metadata": {
  "kernelspec": {
   "display_name": "Python 3 (ipykernel)",
   "language": "python",
   "name": "python3"
  },
  "language_info": {
   "codemirror_mode": {
    "name": "ipython",
    "version": 3
   },
   "file_extension": ".py",
   "mimetype": "text/x-python",
   "name": "python",
   "nbconvert_exporter": "python",
   "pygments_lexer": "ipython3",
   "version": "3.9.7"
  },
  "toc": {
   "base_numbering": 1,
   "nav_menu": {},
   "number_sections": true,
   "sideBar": true,
   "skip_h1_title": false,
   "title_cell": "Table of Contents",
   "title_sidebar": "Contents",
   "toc_cell": false,
   "toc_position": {
    "height": "calc(100% - 180px)",
    "left": "10px",
    "top": "150px",
    "width": "221.188px"
   },
   "toc_section_display": true,
   "toc_window_display": false
  }
 },
 "nbformat": 4,
 "nbformat_minor": 5
}
