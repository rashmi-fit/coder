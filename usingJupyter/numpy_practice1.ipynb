{
 "cells": [
  {
   "cell_type": "markdown",
   "id": "fa711239",
   "metadata": {},
   "source": [
    "<b><center>learning Numpy<center><b>"
   ]
  },
  {
   "cell_type": "markdown",
   "id": "2a45bcba",
   "metadata": {},
   "source": [
    "<b>why to use numpy instead of normal python array<b>"
   ]
  },
  {
   "cell_type": "code",
   "execution_count": 6,
   "id": "9a9f3749",
   "metadata": {},
   "outputs": [],
   "source": [
    "import numpy as np \n",
    "# here np is an allias\n",
    "import time\n",
    "import sys"
   ]
  },
  {
   "cell_type": "code",
   "execution_count": 14,
   "id": "41e8756a",
   "metadata": {},
   "outputs": [],
   "source": [
    "SIZE=1000000"
   ]
  },
  {
   "cell_type": "code",
   "execution_count": 15,
   "id": "22a67927",
   "metadata": {},
   "outputs": [],
   "source": [
    "l1=range(SIZE)\n",
    "l2=range(SIZE)"
   ]
  },
  {
   "cell_type": "code",
   "execution_count": 16,
   "id": "198e45dd",
   "metadata": {},
   "outputs": [],
   "source": [
    "a1= np.arange(SIZE)\n",
    "a2=np.arange(SIZE)"
   ]
  },
  {
   "cell_type": "code",
   "execution_count": 19,
   "id": "739a5d0a",
   "metadata": {},
   "outputs": [
    {
     "name": "stdout",
     "output_type": "stream",
     "text": [
      "python list took : 102.10323333740234\n"
     ]
    }
   ],
   "source": [
    "# python list\n",
    "start=time.time()\n",
    "result= [(x+y) for x,y in zip(l1,l2)]\n",
    "print(\"python list took :\", (time.time()-start)*1000)"
   ]
  },
  {
   "cell_type": "code",
   "execution_count": 18,
   "id": "20b26de4",
   "metadata": {},
   "outputs": [
    {
     "name": "stdout",
     "output_type": "stream",
     "text": [
      "numpy took : 14.761924743652344\n"
     ]
    }
   ],
   "source": [
    "# numpy array\n",
    "start=time.time()\n",
    "result=a1+a2\n",
    "print(\"numpy took :\" , (time.time()-start)*1000)"
   ]
  },
  {
   "cell_type": "code",
   "execution_count": null,
   "id": "c2e9fdce",
   "metadata": {},
   "outputs": [],
   "source": []
  },
  {
   "cell_type": "code",
   "execution_count": null,
   "id": "5c772147",
   "metadata": {},
   "outputs": [],
   "source": []
  },
  {
   "cell_type": "code",
   "execution_count": null,
   "id": "f726b5ed",
   "metadata": {},
   "outputs": [],
   "source": []
  },
  {
   "cell_type": "code",
   "execution_count": null,
   "id": "7205dd82",
   "metadata": {},
   "outputs": [],
   "source": []
  },
  {
   "cell_type": "code",
   "execution_count": null,
   "id": "31ddcf88",
   "metadata": {},
   "outputs": [],
   "source": []
  },
  {
   "cell_type": "code",
   "execution_count": null,
   "id": "7b7d6ad0",
   "metadata": {},
   "outputs": [],
   "source": []
  }
 ],
 "metadata": {
  "kernelspec": {
   "display_name": "Python 3 (ipykernel)",
   "language": "python",
   "name": "python3"
  },
  "language_info": {
   "codemirror_mode": {
    "name": "ipython",
    "version": 3
   },
   "file_extension": ".py",
   "mimetype": "text/x-python",
   "name": "python",
   "nbconvert_exporter": "python",
   "pygments_lexer": "ipython3",
   "version": "3.9.7"
  }
 },
 "nbformat": 4,
 "nbformat_minor": 5
}
